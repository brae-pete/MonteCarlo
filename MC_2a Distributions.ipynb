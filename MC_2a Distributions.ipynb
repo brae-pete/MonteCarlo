{
 "cells": [
  {
   "cell_type": "markdown",
   "metadata": {},
   "source": [
    "\n",
    "Here we start working with distributions. We will also start to pay closer attention to how fast (or slow) we are making our \n",
    "functions and methods.\n",
    "\n",
    "**Resource:**\n",
    "\n",
    "* Shonkwiler, Ronald W., and Franklin Mendivil. 2009. Explorations in Monte Carlo Methods. New York: Springer-Verlag. https://www.springer.com/us/book/9780387878362 (October 19, 2020).\n",
    "\n",
    "\n"
   ]
  },
  {
   "cell_type": "code",
   "execution_count": 682,
   "metadata": {},
   "outputs": [],
   "source": [
    "import numpy as np\n",
    "import random as random\n",
    "import matplotlib.pyplot as plt\n"
   ]
  },
  {
   "cell_type": "markdown",
   "metadata": {},
   "source": [
    "# Discrete Distributions and Inverse CDF\n",
    "We can get a samples from a discrete distribution using the inverse of the CDF. Randomly get a number between U(0,1), then compare that probability to the break point of the cdf. Essentially it is just a comparison of the probabilities with each discrete having some range between 0,1 according to the probability it will be chosen. \n",
    "\n",
    "*Terms:* \n",
    "**Bernoulli trial**: Distribution of two states or values (True/False, 0/1, ON/OFF, etc...) "
   ]
  },
  {
   "cell_type": "code",
   "execution_count": 91,
   "metadata": {},
   "outputs": [
    {
     "data": {
      "text/plain": [
       "[0.15, 0.35, 0.95, 1.0]"
      ]
     },
     "execution_count": 91,
     "metadata": {},
     "output_type": "execute_result"
    }
   ],
   "source": [
    "# Set up CDF\n",
    "outcome = [2,3,4,5] # Discrete outcomes, for example how  many eggs a bird may lay\n",
    "probabilities = [.15, .2, .6, .05] # Probabilities for the outcomes above\n",
    "\n",
    "# Create a breakpoint array by summing the probabilites of all elements before it\\\n",
    "break_points = [x+np.sum(probabilities[0:idx]) for idx, x in enumerate(probabilities)]\n",
    "break_points"
   ]
  },
  {
   "cell_type": "code",
   "execution_count": 6,
   "metadata": {},
   "outputs": [
    {
     "name": "stdout",
     "output_type": "stream",
     "text": [
      "Outcome of 4 eggs is selected at probability 0.950\n"
     ]
    }
   ],
   "source": [
    "def inverse_cdf(bp, oc):\n",
    "    \"\"\"\n",
    "    :param bp: break_point array\n",
    "    :param oc: outcome array\n",
    "    :return selected, u: returns the selected index and the number used to determine the selected index. \n",
    "    \"\"\"\n",
    "    u = random.random()\n",
    "    selected = 0 \n",
    "    while  u >= bp[selected]:\n",
    "        selected+=1\n",
    "    return selected, u\n",
    "selected, u = inverse_cdf(break_points, outcome)\n",
    "print(f\"Outcome of {outcome[selected]} eggs is selected at probability {u:.3f}\")"
   ]
  },
  {
   "cell_type": "markdown",
   "metadata": {},
   "source": [
    "### Decreasing run time by sorting\n",
    "\n",
    "We can speed this up by sorting probabilites by decreasing probability. The largest probability situation will come first, so less steps in the loop are needed to reach the most probable outcome. "
   ]
  },
  {
   "cell_type": "code",
   "execution_count": 158,
   "metadata": {},
   "outputs": [],
   "source": [
    "# Set up CDF, but reverse sort the break_points  \n",
    "def get_sorted_breakpoints(probabilities, outcome):\n",
    "    #Stick the probabilites and outcome in a matrix (matrices are easier for my brain to keep track of lol)\n",
    "    mat = np.transpose(np.asarray([probabilities, outcome]))\n",
    "\n",
    "    # Get the indices after sorting on the first column, reverse it, and sort the rows of the matrix\n",
    "    mat = mat[mat[:,0].argsort()[::-1]]\n",
    "\n",
    "    # get the break point and outcome sorted lists \n",
    "    break_points_sorted = [x+np.sum(mat[0:idx, 0]) for idx, x in enumerate(mat[:,0])]\n",
    "    outcome_sorted = list(mat[:,1]) # Keep the types the same for our comparison\n",
    "    return break_points_sorted, outcome_sorted\n",
    "\n",
    "break_points_sorted, outcome_sorted = get_sorted_breakpoints(probabilities, outcome)"
   ]
  },
  {
   "cell_type": "code",
   "execution_count": 58,
   "metadata": {},
   "outputs": [
    {
     "name": "stdout",
     "output_type": "stream",
     "text": [
      "Unsorted array: \n",
      "592 ns ± 154 ns per loop (mean ± std. dev. of 7 runs, 100000 loops each)\n",
      "Sorted array:\n",
      "414 ns ± 34.6 ns per loop (mean ± std. dev. of 7 runs, 100000 loops each)\n"
     ]
    }
   ],
   "source": [
    "# Compare the performance of the sorted arrays with inverse cdf\n",
    "print(\"Unsorted array: \")\n",
    "%timeit -n 100000 -r 7 inverse_cdf(break_points, outcome)\n",
    "# Get average time for original array\n",
    "print(\"Sorted array:\")\n",
    "%timeit -n 100000 -r 7 inverse_cdf(break_points_sorted, outcome_sorted)"
   ]
  },
  {
   "cell_type": "markdown",
   "metadata": {},
   "source": [
    "### Decreasing run time by indexing arrays\n",
    "\n",
    "Alternatively, we can round all probabilites to the hundreds place and use the random number as an index \n"
   ]
  },
  {
   "cell_type": "code",
   "execution_count": 50,
   "metadata": {},
   "outputs": [],
   "source": [
    "# for the respective outcome\n",
    "\n",
    "breakpoint_outcome_array=[0]*101\n",
    "old_p = 0\n",
    "for p,k in zip(break_points,outcome):\n",
    "    rounded_int_p = int(p*100)\n",
    "    breakpoint_outcome_array[old_p:rounded_int_p]=[k for _ in range(old_p,rounded_int_p)]\n",
    "    old_p = rounded_int_p\n",
    "    \n",
    "def inverse_cdf_array(bp_array):\n",
    "    \"\"\"\n",
    "    :param bp: break_point array\n",
    "    :param oc: outcome array\n",
    "    :return selected, u: returns the selected index and the number used to determine the selected index. \n",
    "    \"\"\"\n",
    "    u = int(random.random()*100) # this is faster than randint\n",
    "    return bp_array[u]\n"
   ]
  },
  {
   "cell_type": "code",
   "execution_count": 57,
   "metadata": {},
   "outputs": [
    {
     "name": "stdout",
     "output_type": "stream",
     "text": [
      "Unsorted array: \n",
      "515 ns ± 30.6 ns per loop (mean ± std. dev. of 7 runs, 1000000 loops each)\n",
      "Sorted array:\n",
      "381 ns ± 8.26 ns per loop (mean ± std. dev. of 7 runs, 1000000 loops each)\n",
      "Break point array: \n",
      "315 ns ± 17.1 ns per loop (mean ± std. dev. of 7 runs, 1000000 loops each)\n"
     ]
    }
   ],
   "source": [
    "# Compare the break point array against all the methods so far\n",
    "print(\"Unsorted array: \")\n",
    "%timeit -n 1000000 -r 7 inverse_cdf(break_points, outcome)\n",
    "# Get average time for original array\n",
    "print(\"Sorted array:\")\n",
    "%timeit -n 1000000 -r 7 inverse_cdf(break_points_sorted, outcome_sorted)\n",
    "print(\"Break point array: \")\n",
    "%timeit -n 1000000 -r 7 inverse_cdf_array(breakpoint_outcome_array)"
   ]
  },
  {
   "cell_type": "markdown",
   "metadata": {},
   "source": [
    "### Taking advantage of vectorization\n",
    "\n",
    "We can use numpy arrays and vectorization to generate a large number of samples at once fairly quickly. "
   ]
  },
  {
   "cell_type": "code",
   "execution_count": 83,
   "metadata": {},
   "outputs": [],
   "source": [
    "#Now generate a large number of samples using vector\n",
    "def inverse_cdf_vector(bp,oc, samples=1000):\n",
    "    u = np.random.rand(samples)\n",
    "    selection = np.empty(samples)\n",
    "    old_p = 0\n",
    "    for p,k in zip(bp,oc):\n",
    "        mask = np.equal(old_p < u, u < p)\n",
    "        selection[mask] = k\n",
    "        old_p = p\n",
    "    return selection"
   ]
  },
  {
   "cell_type": "code",
   "execution_count": 89,
   "metadata": {},
   "outputs": [
    {
     "name": "stdout",
     "output_type": "stream",
     "text": [
      "933 µs ± 37.8 µs per loop (mean ± std. dev. of 7 runs, 1000 loops each)\n",
      "59.7 µs ± 746 ns per loop (mean ± std. dev. of 7 runs, 10000 loops each)\n"
     ]
    }
   ],
   "source": [
    "# Is it faster to random.random in a list comprehension or numpy's random?\n",
    "%timeit [random.random() for _ in range(10000)]\n",
    "%timeit np.random.rand(10000)"
   ]
  },
  {
   "cell_type": "code",
   "execution_count": 90,
   "metadata": {},
   "outputs": [
    {
     "name": "stdout",
     "output_type": "stream",
     "text": [
      "264 µs ± 5.22 µs per loop (mean ± std. dev. of 7 runs, 100 loops each)\n",
      "3.37 ms ± 149 µs per loop (mean ± std. dev. of 7 runs, 100 loops each)\n"
     ]
    }
   ],
   "source": [
    "# How fast is it to get 10000 samples with the vector method?\n",
    "%timeit -n 100 -r 7 inverse_cdf_vector(break_points, outcome, samples=10000)\n",
    "# Compare this to the array method for 10000 samples\n",
    "%timeit -n 100 -r 7 [inverse_cdf_array(breakpoint_outcome_array) for i in range(10000)]"
   ]
  },
  {
   "cell_type": "markdown",
   "metadata": {},
   "source": [
    "# Walker's Alias Method\n",
    "\n",
    "Unlike the inverse cdf, the alias method is away to get samples without using a search loop. The idea is as follows:\n",
    "\n",
    "1) let $U = U(0,1)$ and put $Y = int[U M]$ and $Z = frac(U M)$, where $frac(x) = x - int[x]$\n",
    "\n",
    "2) if $Q(Y) < Z$ return $ X = Y $, else return $ X = A(Y)$\n",
    "\n",
    "**I'm pretty sure the book messed up equation #2, they had Q(Y)/M, but that doesnt give the right distribution**\n",
    "\n",
    "Z is distributyed as U(0,1)\n",
    "\n",
    "where M is the total number of possible outcomes. And the product of U and M will give the sample Y. At equal probability for each condition nothing would need to be done. However, we can use a second array $Q$ to adjust the down $Y$ if the actual probabilies are lower. Meanwhile, excess probability can be sent to some index $A(Y)$ whose selection exceeds the equal probability. \n"
   ]
  },
  {
   "cell_type": "code",
   "execution_count": 159,
   "metadata": {},
   "outputs": [],
   "source": [
    "# probabiilty of the sex of the offspring from a femail rufous vanga bird being female given a clutch size of 8. \n",
    "outcome = [0,1,2,3,4,5,6,7,8]\n",
    "probs = [0.02, 0.04, 0.08, 0.15, 0.2, 0.21, 0.16, 0.09, 0.05]\n"
   ]
  },
  {
   "cell_type": "markdown",
   "metadata": {},
   "source": [
    "Calculating Q is a little confusing at first. \n",
    "\n",
    "Start finding the Q(0) for the smallest probabilities first: \n",
    "\n",
    "\n",
    "$\\frac{Q(0)}{M} = 0.02$ solving for $Q(0)$ gives 0.18.\n",
    "\n",
    "\n",
    "Now index 0 occurs at the correct frequency. We need to give the remaining/excess probability to a value with a probability above 1/M. The amount of excess is calculated as: \n",
    "\n",
    "$\\frac{1-Q(0)}{M}=0.091$\n",
    "\n",
    "\n",
    "We will assign this to the outcome with greatest probability, in this case that is outcome 5 with a probability of 0.21\n",
    "\n",
    "$P(5) = P(5)-0.091 = 0.21 - 0.091 = 0.209$\n",
    "\n",
    "Continue to do this for each element\n"
   ]
  },
  {
   "cell_type": "code",
   "execution_count": 687,
   "metadata": {},
   "outputs": [],
   "source": [
    "def set_up_alias(prob):\n",
    "    probs = prob[::]\n",
    "    M = len(probs)\n",
    "    A = [np.nan]*M\n",
    "    Q = [0]*M\n",
    "    for x in np.argsort(probs):\n",
    "        q_x = probs[x] * M\n",
    "        Q[x]=q_x\n",
    "        if probs[x]<1/M:\n",
    "            q_excess = (1-q_x)/M\n",
    "            A[x] = np.argmax(probs)\n",
    "            if q_excess >0:\n",
    "                probs[np.argmax(probs)]-=q_excess\n",
    "    \n",
    "    return np.asarray(Q), np.asarray(A)\n"
   ]
  },
  {
   "cell_type": "code",
   "execution_count": 688,
   "metadata": {},
   "outputs": [],
   "source": [
    "Q,A = set_up_alias(probs)"
   ]
  },
  {
   "cell_type": "code",
   "execution_count": 679,
   "metadata": {},
   "outputs": [],
   "source": [
    "def walker_alias(outcomes, Q,A, M):\n",
    "    u = random.random()\n",
    "    um = u*M\n",
    "    Y = int(um)\n",
    "    Z = um%1\n",
    "    if Q[Y] > Z:\n",
    "        return outcomes[Y]\n",
    "    else:\n",
    "        return outcomes[int(A[Y])]"
   ]
  },
  {
   "cell_type": "code",
   "execution_count": 680,
   "metadata": {},
   "outputs": [
    {
     "data": {
      "text/plain": [
       "7"
      ]
     },
     "execution_count": 680,
     "metadata": {},
     "output_type": "execute_result"
    }
   ],
   "source": [
    "walker_alias(outcome, Q, A.astype(np.int), len(outcome))"
   ]
  },
  {
   "cell_type": "code",
   "execution_count": 689,
   "metadata": {},
   "outputs": [
    {
     "name": "stdout",
     "output_type": "stream",
     "text": [
      "963 ns ± 53 ns per loop (mean ± std. dev. of 7 runs, 1000000 loops each)\n",
      "638 ns ± 49.6 ns per loop (mean ± std. dev. of 7 runs, 1000000 loops each)\n"
     ]
    }
   ],
   "source": [
    "%timeit walker_alias(outcome, Q, A, len(outcome))\n",
    "\n",
    "bp, oc = get_sorted_breakpoints(probs, outcome)\n",
    "%timeit inverse_cdf(bp,oc)"
   ]
  },
  {
   "cell_type": "markdown",
   "metadata": {},
   "source": [
    "Soooooo, this alias method as written is fairly slower than the inverse cdf functions. But maybeeee it performs better where there is a larger number of options to have to search through. Or when we are looking thousands of samples at once. "
   ]
  },
  {
   "cell_type": "code",
   "execution_count": 670,
   "metadata": {},
   "outputs": [],
   "source": [
    "def walker_alias_vector(outcomes:np.array, Q:np.array, A:np.array, samples=10000):\n",
    "    \"\"\"\n",
    "    maybe we can vectorize\n",
    "    \"\"\"\n",
    "    M = len(outcomes)\n",
    "    u = np.random.rand(samples)\n",
    "    Y = np.multiply(u,M).astype(np.int)\n",
    "    Z = np.mod(u*M,1)\n",
    "    \n",
    "    #\n",
    "    selected = np.empty(samples)\n",
    "    selected[:]=Y\n",
    "    mask = np.less(Q[Y], Z) & ~np.isnan(A[Y])\n",
    "    selected[mask]=A[Y[mask]]\n",
    "    return selected\n",
    "    "
   ]
  },
  {
   "cell_type": "code",
   "execution_count": 676,
   "metadata": {},
   "outputs": [
    {
     "name": "stdout",
     "output_type": "stream",
     "text": [
      "346 µs ± 4.47 µs per loop (mean ± std. dev. of 7 runs, 1000 loops each)\n",
      "447 µs ± 43 µs per loop (mean ± std. dev. of 7 runs, 1000 loops each)\n"
     ]
    }
   ],
   "source": [
    "%timeit -n 1000 walker_alias_vector(np.asarray(outcome), np.asarray(Q), np.asarray(A), samples=10000)\n",
    "%timeit -n 1000 inverse_cdf_vector(bp,oc,samples=10000)"
   ]
  },
  {
   "cell_type": "markdown",
   "metadata": {},
   "source": [
    "It appears it slightly outperforms the inverse cdf when dealing with arrays. "
   ]
  },
  {
   "cell_type": "code",
   "execution_count": 674,
   "metadata": {},
   "outputs": [],
   "source": [
    "# Lets use the Q and A from the book\n",
    "#Q = [0.18, 0.36, 0.72, 1.0, 0.97, 0.43, 0.68, 0.81, 0.45]\n",
    "#A = [5,5,4,3,3,6,3,6,4]\n",
    "alias= walker_alias_vector(np.asarray(outcome), np.asarray(Q), np.asarray(A), samples=10000)\n",
    "inv = inverse_cdf_vector(bp,oc,samples=10000)"
   ]
  },
  {
   "cell_type": "code",
   "execution_count": 684,
   "metadata": {},
   "outputs": [
    {
     "data": {
      "text/plain": [
       "<matplotlib.legend.Legend at 0x24d6d4f9148>"
      ]
     },
     "execution_count": 684,
     "metadata": {},
     "output_type": "execute_result"
    },
    {
     "data": {
      "image/png": "[encoded data removed]",
      "text/plain": [
       "<Figure size 432x288 with 1 Axes>"
      ]
     },
     "metadata": {
      "needs_background": "light"
     },
     "output_type": "display_data"
    }
   ],
   "source": [
    "#Plot the two distributions, they should be close to equal\n",
    "plt.figure()\n",
    "plt.hist(alias,bins=M, density=True, label='Alias Method')\n",
    "plt.hist(inv, alpha=0.2, bins=M, density=True, label='inverse cdf')\n",
    "plt.legend()"
   ]
  }
 ],
 "metadata": {
  "kernelspec": {
   "display_name": "Python 3",
   "language": "python",
   "name": "python3"
  },
  "language_info": {
   "codemirror_mode": {
    "name": "ipython",
    "version": 3
   },
   "file_extension": ".py",
   "mimetype": "text/x-python",
   "name": "python",
   "nbconvert_exporter": "python",
   "pygments_lexer": "ipython3",
   "version": "3.7.9"
  }
 },
 "nbformat": 4,
 "nbformat_minor": 4
}
