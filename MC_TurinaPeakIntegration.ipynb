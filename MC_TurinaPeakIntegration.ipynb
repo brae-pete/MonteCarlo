{
 "cells": [
  {
   "cell_type": "code",
   "execution_count": 1,
   "metadata": {},
   "outputs": [],
   "source": [
    "import numpy as np\n",
    "import pandas as pd\n",
    "import matplotlib.pyplot as plt\n",
    "from scipy.signal import find_peaks"
   ]
  },
  {
   "cell_type": "markdown",
   "metadata": {},
   "source": [
    "# Peak Integration\n",
    "\n",
    "A major branch of analytical chemistry deals with separations. As the name implies, a separation will separate different molecules from each other so that the individual components of a mixture can be analyzed quantiatively. For example, in capillary electrophoresis molecules move through a narrow capillary (or tiny tube) at different speeds due to differences in the size and charge. A detector is placed near the end the separation distance (in capillary electrophoresis this is often near the end of the capillary). As molecules pass the detector, the signal from the detector rises then falls creating a peak.  Calculating the area of the peak is a common task for separation scientists who want to measure how much of the molecule or compound is present.\n",
    "\n",
    "Below we are going to look at a peak from a capillary electrophoresis separation."
   ]
  },
  {
   "cell_type": "markdown",
   "metadata": {},
   "source": [
    "The file includes a single time column followed by a series of columns corresponding to different runs of the separation. These separations were used to study the detection limits of a new detector. The header of the file gives the different voltage settings used by the detector (where an increased voltage results in an increased signal). For our purposes we are only going to look at a single separation (28.6 V). "
   ]
  },
  {
   "cell_type": "code",
   "execution_count": 2,
   "metadata": {},
   "outputs": [
    {
     "data": {
      "text/html": [
       "<div>\n",
       "<style scoped>\n",
       "    .dataframe tbody tr th:only-of-type {\n",
       "        vertical-align: middle;\n",
       "    }\n",
       "\n",
       "    .dataframe tbody tr th {\n",
       "        vertical-align: top;\n",
       "    }\n",
       "\n",
       "    .dataframe thead th {\n",
       "        text-align: right;\n",
       "    }\n",
       "</style>\n",
       "<table border=\"1\" class=\"dataframe\">\n",
       "  <thead>\n",
       "    <tr style=\"text-align: right;\">\n",
       "      <th></th>\n",
       "      <th>Time</th>\n",
       "      <th>28.6</th>\n",
       "      <th>28.6.1</th>\n",
       "      <th>28.6.2</th>\n",
       "      <th>28.6.3</th>\n",
       "      <th>28.6.4</th>\n",
       "      <th>28.6.5</th>\n",
       "      <th>29.7</th>\n",
       "      <th>29.7.1</th>\n",
       "      <th>29.7.2</th>\n",
       "      <th>...</th>\n",
       "      <th>27.7.2</th>\n",
       "      <th>27.7.3</th>\n",
       "      <th>27.7.4</th>\n",
       "      <th>27.7.5</th>\n",
       "      <th>26.6</th>\n",
       "      <th>26.6.1</th>\n",
       "      <th>26.6.2</th>\n",
       "      <th>26.6.3</th>\n",
       "      <th>26.6.4</th>\n",
       "      <th>26.6.5</th>\n",
       "    </tr>\n",
       "  </thead>\n",
       "  <tbody>\n",
       "    <tr>\n",
       "      <th>0</th>\n",
       "      <td>0.000</td>\n",
       "      <td>0.012884</td>\n",
       "      <td>0.012854</td>\n",
       "      <td>0.012939</td>\n",
       "      <td>0.012899</td>\n",
       "      <td>0.012888</td>\n",
       "      <td>0.012963</td>\n",
       "      <td>0.025099</td>\n",
       "      <td>0.025152</td>\n",
       "      <td>0.025175</td>\n",
       "      <td>...</td>\n",
       "      <td>0.007780</td>\n",
       "      <td>0.007687</td>\n",
       "      <td>0.007729</td>\n",
       "      <td>0.007769</td>\n",
       "      <td>0.003378</td>\n",
       "      <td>0.003358</td>\n",
       "      <td>0.003337</td>\n",
       "      <td>0.003326</td>\n",
       "      <td>0.003329</td>\n",
       "      <td>0.003342</td>\n",
       "    </tr>\n",
       "    <tr>\n",
       "      <th>1</th>\n",
       "      <td>0.125</td>\n",
       "      <td>0.013135</td>\n",
       "      <td>0.013135</td>\n",
       "      <td>0.013183</td>\n",
       "      <td>0.013161</td>\n",
       "      <td>0.013092</td>\n",
       "      <td>0.013219</td>\n",
       "      <td>0.025398</td>\n",
       "      <td>0.025376</td>\n",
       "      <td>0.025375</td>\n",
       "      <td>...</td>\n",
       "      <td>0.008014</td>\n",
       "      <td>0.007922</td>\n",
       "      <td>0.007950</td>\n",
       "      <td>0.008026</td>\n",
       "      <td>0.003591</td>\n",
       "      <td>0.003636</td>\n",
       "      <td>0.003596</td>\n",
       "      <td>0.003608</td>\n",
       "      <td>0.003601</td>\n",
       "      <td>0.003614</td>\n",
       "    </tr>\n",
       "    <tr>\n",
       "      <th>2</th>\n",
       "      <td>0.250</td>\n",
       "      <td>0.012960</td>\n",
       "      <td>0.012954</td>\n",
       "      <td>0.013066</td>\n",
       "      <td>0.013012</td>\n",
       "      <td>0.012965</td>\n",
       "      <td>0.013084</td>\n",
       "      <td>0.025264</td>\n",
       "      <td>0.025226</td>\n",
       "      <td>0.025270</td>\n",
       "      <td>...</td>\n",
       "      <td>0.007872</td>\n",
       "      <td>0.007787</td>\n",
       "      <td>0.007851</td>\n",
       "      <td>0.007846</td>\n",
       "      <td>0.003462</td>\n",
       "      <td>0.003448</td>\n",
       "      <td>0.003433</td>\n",
       "      <td>0.003415</td>\n",
       "      <td>0.003432</td>\n",
       "      <td>0.003445</td>\n",
       "    </tr>\n",
       "    <tr>\n",
       "      <th>3</th>\n",
       "      <td>0.375</td>\n",
       "      <td>0.012948</td>\n",
       "      <td>0.012922</td>\n",
       "      <td>0.012955</td>\n",
       "      <td>0.013018</td>\n",
       "      <td>0.012982</td>\n",
       "      <td>0.013019</td>\n",
       "      <td>0.025202</td>\n",
       "      <td>0.025176</td>\n",
       "      <td>0.025252</td>\n",
       "      <td>...</td>\n",
       "      <td>0.007801</td>\n",
       "      <td>0.007753</td>\n",
       "      <td>0.007764</td>\n",
       "      <td>0.007761</td>\n",
       "      <td>0.003415</td>\n",
       "      <td>0.003385</td>\n",
       "      <td>0.003394</td>\n",
       "      <td>0.003362</td>\n",
       "      <td>0.003395</td>\n",
       "      <td>0.003401</td>\n",
       "    </tr>\n",
       "    <tr>\n",
       "      <th>4</th>\n",
       "      <td>0.500</td>\n",
       "      <td>0.012943</td>\n",
       "      <td>0.012954</td>\n",
       "      <td>0.012987</td>\n",
       "      <td>0.013021</td>\n",
       "      <td>0.013018</td>\n",
       "      <td>0.013041</td>\n",
       "      <td>0.025252</td>\n",
       "      <td>0.025269</td>\n",
       "      <td>0.025236</td>\n",
       "      <td>...</td>\n",
       "      <td>0.007802</td>\n",
       "      <td>0.007781</td>\n",
       "      <td>0.007784</td>\n",
       "      <td>0.007809</td>\n",
       "      <td>0.003403</td>\n",
       "      <td>0.003397</td>\n",
       "      <td>0.003425</td>\n",
       "      <td>0.003404</td>\n",
       "      <td>0.003413</td>\n",
       "      <td>0.003415</td>\n",
       "    </tr>\n",
       "  </tbody>\n",
       "</table>\n",
       "<p>5 rows × 25 columns</p>\n",
       "</div>"
      ],
      "text/plain": [
       "    Time      28.6    28.6.1    28.6.2    28.6.3    28.6.4    28.6.5  \\\n",
       "0  0.000  0.012884  0.012854  0.012939  0.012899  0.012888  0.012963   \n",
       "1  0.125  0.013135  0.013135  0.013183  0.013161  0.013092  0.013219   \n",
       "2  0.250  0.012960  0.012954  0.013066  0.013012  0.012965  0.013084   \n",
       "3  0.375  0.012948  0.012922  0.012955  0.013018  0.012982  0.013019   \n",
       "4  0.500  0.012943  0.012954  0.012987  0.013021  0.013018  0.013041   \n",
       "\n",
       "       29.7    29.7.1    29.7.2  ...    27.7.2    27.7.3    27.7.4    27.7.5  \\\n",
       "0  0.025099  0.025152  0.025175  ...  0.007780  0.007687  0.007729  0.007769   \n",
       "1  0.025398  0.025376  0.025375  ...  0.008014  0.007922  0.007950  0.008026   \n",
       "2  0.025264  0.025226  0.025270  ...  0.007872  0.007787  0.007851  0.007846   \n",
       "3  0.025202  0.025176  0.025252  ...  0.007801  0.007753  0.007764  0.007761   \n",
       "4  0.025252  0.025269  0.025236  ...  0.007802  0.007781  0.007784  0.007809   \n",
       "\n",
       "       26.6    26.6.1    26.6.2    26.6.3    26.6.4    26.6.5  \n",
       "0  0.003378  0.003358  0.003337  0.003326  0.003329  0.003342  \n",
       "1  0.003591  0.003636  0.003596  0.003608  0.003601  0.003614  \n",
       "2  0.003462  0.003448  0.003433  0.003415  0.003432  0.003445  \n",
       "3  0.003415  0.003385  0.003394  0.003362  0.003395  0.003401  \n",
       "4  0.003403  0.003397  0.003425  0.003404  0.003413  0.003415  \n",
       "\n",
       "[5 rows x 25 columns]"
      ]
     },
     "execution_count": 2,
     "metadata": {},
     "output_type": "execute_result"
    }
   ],
   "source": [
    "# Read in the File\n",
    "data_file = r\".\\files\\sipm_detector.xlsx\"\n",
    "data = pd.read_excel(data_file)\n",
    "data.head()"
   ]
  },
  {
   "cell_type": "code",
   "execution_count": 3,
   "metadata": {},
   "outputs": [
    {
     "data": {
      "text/plain": [
       "[<matplotlib.lines.Line2D at 0x20e11d34f88>]"
      ]
     },
     "execution_count": 3,
     "metadata": {},
     "output_type": "execute_result"
    },
    {
     "data": {
      "image/png": "[encoded data removed]",
      "text/plain": [
       "<Figure size 432x288 with 1 Axes>"
      ]
     },
     "metadata": {
      "needs_background": "light"
     },
     "output_type": "display_data"
    }
   ],
   "source": [
    "# Plot the signal from the separation with the columnn heading 28.6\n",
    "x = data[28.6].values\n",
    "plt.plot(x)"
   ]
  },
  {
   "cell_type": "markdown",
   "metadata": {},
   "source": [
    "Now that we have our data read into our Pandas dataframe, we need to find the portion of the separation that includes just the peak. We will use a function provided by Scipy module called 'find_peaks' to locate the peak. Check out the documentation for find_peaks for more information on how this works"
   ]
  },
  {
   "cell_type": "code",
   "execution_count": 4,
   "metadata": {},
   "outputs": [
    {
     "data": {
      "image/png": "[encoded data removed]",
      "text/plain": [
       "<Figure size 432x288 with 1 Axes>"
      ]
     },
     "metadata": {
      "needs_background": "light"
     },
     "output_type": "display_data"
    }
   ],
   "source": [
    "# Get the peak start and stop information\n",
    "peaks, properties = find_peaks(x, prominence=0.02, width=5, threshold=0.0001, rel_height=0.999)\n",
    "fig, ax = plt.subplots()\n",
    "ax.plot(x)\n",
    "ax.plot(peaks, x[peaks], \"x\")\n",
    "ax.vlines(x=peaks, ymin=x[peaks] - properties[\"prominences\"],\n",
    "           ymax = x[peaks], color = \"C1\")\n",
    "ax.hlines(y=properties[\"width_heights\"], xmin=properties[\"left_ips\"],\n",
    "           xmax=properties[\"right_ips\"], color = \"C1\")\n",
    "\n",
    "ax.set_ylabel('Signal (V)')\n",
    "ax.set_xlabel('Data Point')\n",
    "pass\n"
   ]
  },
  {
   "cell_type": "code",
   "execution_count": 5,
   "metadata": {},
   "outputs": [
    {
     "data": {
      "image/png": "[encoded data removed]",
      "text/plain": [
       "<Figure size 432x288 with 1 Axes>"
      ]
     },
     "metadata": {
      "needs_background": "light"
     },
     "output_type": "display_data"
    }
   ],
   "source": [
    "# Extract Just the Peak\n",
    "stop = int(properties['right_ips'])\n",
    "start = int(properties['left_ips'])\n",
    "fig, ax = plt.subplots()\n",
    "ax.plot(x[start:stop+1])\n",
    "ax.set_ylabel('Signal (V)')\n",
    "ax.set_xlabel('Time (s)')\n",
    "pass"
   ]
  },
  {
   "cell_type": "markdown",
   "metadata": {},
   "source": [
    "Calculating the area of this peak used to be a nontrivial task. Before computers were commonplace, scientists would take the recording of the detector and copy it to a paper with a known thickness and density. They would cut out the peak and measure the weight on the scale, and calculate the area using the weight and density of the paper. This would leave room for error due to the accuracy of the scissor work from the scientist (imagine the difficulty of cutting small peaks!!)\n",
    "\n",
    "Luckily, with computers it is quite easy to get a very accurate estimation of the peak. The most common is to use a trapezoidal integration. Here, a straight line is drawn between the points and the area of the trapezoid formed is summed together with all the other trapezoid areas along the timeseries to calculate the peak area. "
   ]
  },
  {
   "cell_type": "code",
   "execution_count": 6,
   "metadata": {},
   "outputs": [
    {
     "name": "stdout",
     "output_type": "stream",
     "text": [
      "Trapezoidal Area is : 0.3454\n"
     ]
    }
   ],
   "source": [
    "# Integrate using Trapezoidal Approximation\n",
    "peak_signal = x[start:stop+1]\n",
    "peak_time = data[\"Time\"].values[start:stop+1]\n",
    "\n",
    "\n",
    "area = np.trapz(peak_signal, peak_time)\n",
    "print(f\"Trapezoidal Area is : {area:.4f}\")"
   ]
  },
  {
   "cell_type": "markdown",
   "metadata": {},
   "source": [
    "# Estimating Peak Area using Monte Carlo\n",
    "\n",
    "Similar to calculating PI using montecarlo (see buffon's needle experiment as an example), we can approximate the total area under the by randomly distributing many points across a square area. We count the points that fall under the curve by the total number of points and multiply that by the area of the entire square. \n",
    "\n",
    "This was first published in Chromatographia in 1974. In this paper, the authors copy random coordinates to a glass plate and overlay that plate over the separation trace. They then count the number of points found between the baseline and the curve ($x_i$). They calculate the area according to the following equation:\n",
    "\n",
    "$ A_{peak} = \\frac{ x_i }{ x_{total}} A_{slide} $ \n",
    "\n",
    "where $A_{slide}$ is the total area of the glass slide and $x_{total}$ is the total number of points on the glass slide. They would then repeat the Monte Carlo experiment by rotating the glass slide 90 degrees and recounting. \n",
    "\n",
    "They could increase the accuracy of smaller peaks by increasing the density of the points (done by increasing the points and decreasing the slide area). \n",
    "\n",
    "With a computer we can mimic this experiment quite easily. We will use a random number generator to generate the coordinates across a known area. Using a spline we can interpolate what the signal or y-value would be for any time or x-coordinate generated by the number generator.\n",
    "\n",
    "*S. Turina, L. Klasinc, V. Jamnicki \"Area Determination Under Chromatographic Curves Using the Monte Carlo Method\" Chromatographia, Vo. 7, No. 4, April 1974*"
   ]
  },
  {
   "cell_type": "code",
   "execution_count": 7,
   "metadata": {},
   "outputs": [],
   "source": [
    "from scipy.interpolate import interp1d # our interpolation function\n",
    "import random\n",
    "\n",
    "class TurinaArea:\n",
    "    \"\"\"\n",
    "    Monte carlo based peak integrator where random points are generated and the fraction of points that fall under the curve\n",
    "    is multipled by the area of the 'glass slide' or bounds of the x and y arrays. \n",
    "    \"\"\"\n",
    "    \n",
    "    def __init__(self, y, x, min_y=None, max_y=None):\n",
    "        \"\"\"\n",
    "        :param y: array of signal values, length must be equal to x\n",
    "        :param x: array of time values, length must be equal to y\n",
    "        :param min_y: mimimum signal for the number generator, if None min_y will be the minumum value of the y array\n",
    "        :param max_y: maximum signal for the number generator, if None max_y will be the maximum value of the y array\n",
    "        \"\"\"\n",
    "        # Simulation Paramters\n",
    "        assert (len(y)==len(x)), \"Length of input x and y must be equal\"\n",
    "        self.y = y\n",
    "        self.x = x\n",
    "        self.spline = interp1d(x, y, kind='cubic')\n",
    "        if max_y is None:\n",
    "            max_y = max(self.y)\n",
    "        if min_y is None:\n",
    "            min_y = min(self.y)\n",
    "        self.min_y = min_y\n",
    "        self.max_y = max_y\n",
    "        self.min_x = min(x)\n",
    "        self.max_x = max(x)\n",
    "        self.area = (self.max_y-self.min_y)*(self.max_x-self.min_x)\n",
    "\n",
    "        \n",
    "        # Counters\n",
    "        self.enclosed_points = 0\n",
    "        self.total_points = 0\n",
    "        \n",
    "        # Arrays to keep track of points and histories for plotting purposes\n",
    "        self.history = []\n",
    "        self.x_history = []\n",
    "        self.y_history = []\n",
    "    \n",
    "    def reset(self):\n",
    "        \"\"\"\n",
    "        Resets the counters and histories before the start of a simulation\n",
    "        \"\"\"\n",
    "        self.enclosed_points = 0\n",
    "        self.total_points =0\n",
    "        self.history = []\n",
    "        self.x_history = []\n",
    "        self.y_history = []\n",
    "        \n",
    "    def step(self, history=True):\n",
    "        \"\"\"\n",
    "        Logic to be applied for each random toss, or x,y coordinate generated. \n",
    "        \n",
    "        Intervals for x and y are dictated by the min_x, min_y, max_x, max_y fields. A interp1d function is used to interpolate\n",
    "        the height of the curve for any given x generated. If the random value y is smaller than the interoplated signal, the \n",
    "        point is considered under the curve and is added to the tally. \n",
    "        \n",
    "        :param history: Boolean, when True record the point coordinates and peak area for plotting purposes\n",
    "        \"\"\"\n",
    "        point_x = random.uniform(self.min_x, self.max_x)\n",
    "        point_y = random.uniform(self.min_y, self.max_y)\n",
    "        \n",
    "        if point_y < self.spline(point_x):\n",
    "            self.enclosed_points +=1\n",
    "        \n",
    "        self.total_points +=1\n",
    "        \n",
    "        if history:\n",
    "            self.history.append(self.enclosed_points/self.total_points*self.area)\n",
    "            self.x_history.append(point_x)\n",
    "            self.y_history.append(point_y)\n",
    "        \n",
    "    def simulate(self, tosses=100, history=False):\n",
    "        \"\"\"\n",
    "        :param tosses: how many points to generate\n",
    "        :param history: Booelan, when True the history of the point coordinates and peak area will be recorded\n",
    "        \"\"\"\n",
    "        \n",
    "        for i in range(tosses):\n",
    "            self.step(history)\n",
    "        return self.enclosed_points/self.total_points*self.area\n",
    "    \n",
    "        \n",
    "        "
   ]
  },
  {
   "cell_type": "code",
   "execution_count": 8,
   "metadata": {},
   "outputs": [
    {
     "name": "stdout",
     "output_type": "stream",
     "text": [
      "Approximate area from simulation: 0.3676\n"
     ]
    }
   ],
   "source": [
    "# Run the experiment using 500 generated points\n",
    "turina = TurinaArea(peak_signal, peak_time, min_y=0) # we specify min_y=0 because the signal is not background subtracted\n",
    "turina_area = turina.simulate(tosses=500, history=True)\n",
    "print(f\"Approximate area from simulation: {turina_area:.4f}\")"
   ]
  },
  {
   "cell_type": "code",
   "execution_count": 9,
   "metadata": {},
   "outputs": [
    {
     "data": {
      "image/png": "[encoded data removed]",
      "text/plain": [
       "<Figure size 432x288 with 1 Axes>"
      ]
     },
     "metadata": {
      "needs_background": "light"
     },
     "output_type": "display_data"
    }
   ],
   "source": [
    "# Plot the points used during the experiment with the peak curve overlayed\n",
    "fig, ax = plt.subplots()\n",
    "ax.set_ylabel('Signal (V)')\n",
    "ax.set_xlabel('Time (s)')\n",
    "\n",
    "ax.scatter(turina.x_history, turina.y_history, marker= \".\", color='k')\n",
    "ax.plot(peak_time, peak_signal, linewidth=5, color='r')\n",
    "\n",
    "pass"
   ]
  },
  {
   "cell_type": "code",
   "execution_count": 10,
   "metadata": {},
   "outputs": [
    {
     "data": {
      "text/plain": [
       "[<matplotlib.lines.Line2D at 0x20e131d55c8>]"
      ]
     },
     "execution_count": 10,
     "metadata": {},
     "output_type": "execute_result"
    },
    {
     "data": {
      "image/png": "[encoded data removed]",
      "text/plain": [
       "<Figure size 432x288 with 1 Axes>"
      ]
     },
     "metadata": {
      "needs_background": "light"
     },
     "output_type": "display_data"
    }
   ],
   "source": [
    "# Plot the difference between the TrapZ and the MC estimation as a function of tosses\n",
    "\n",
    "fig, ax = plt.subplots()\n",
    "ax.set_ylabel('Absolute Difference')\n",
    "ax.set_yscale('log')\n",
    "ax.set_xlabel('Tosses')\n",
    "plt.plot(np.abs(np.subtract(area,turina.history)))"
   ]
  },
  {
   "cell_type": "markdown",
   "metadata": {},
   "source": [
    "In the Turino paper they repeated the experiment four times by rotating the glass slide 90 degrees. For our experiment we can quite easily run this experiment hundreds or thousands of times. \n",
    "\n",
    "Lets use a simple MonteCarlo class that will call our Turino Simulation as many times as we want and record the result from each experiment. We will take the median area of all the experiments as our expected peak area. "
   ]
  },
  {
   "cell_type": "code",
   "execution_count": 11,
   "metadata": {},
   "outputs": [],
   "source": [
    "class MonteCarlo:\n",
    "    \"\"\"\n",
    "    We will try to use this monte carlo class for many of our simulations. It will restore a list of outcomes as a \n",
    "    field titled \"results\". \n",
    "    \n",
    "    Later we will update this to include the multiprocessing module to run our simulations faster.\n",
    "    \"\"\"\n",
    "    \n",
    "    def __init__(self):\n",
    "        self.results = []\n",
    "    \n",
    "    def run(self,simulation_object, number_of_simulations, *args, **kwargs):\n",
    "        \"\"\"\n",
    "        Pass a simulation object (our Plink Class for example), the number of times to run the MC simulation, and any arguments \n",
    "        keyword arguments that are necessary for the simulate command of the simulation object\n",
    "        \n",
    "        \"\"\"\n",
    "        \n",
    "        self.results = [simulation_object.simulate(*args,**kwargs) for i in range(number_of_simulations)]\n",
    "        \n",
    "            "
   ]
  },
  {
   "cell_type": "code",
   "execution_count": 12,
   "metadata": {},
   "outputs": [
    {
     "name": "stdout",
     "output_type": "stream",
     "text": [
      "Mean Area: 0.3438 +/- 0.0010\n",
      "Difference is : -0.00155\n"
     ]
    },
    {
     "data": {
      "image/png": "[encoded data removed]",
      "text/plain": [
       "<Figure size 432x288 with 1 Axes>"
      ]
     },
     "metadata": {
      "needs_background": "light"
     },
     "output_type": "display_data"
    }
   ],
   "source": [
    "# Run a Monte Carlo simulation using 500 experiments with 1000 points for each experiment. \n",
    "turina = TurinaArea(peak_signal, peak_time, min_y=0)\n",
    "mc = MonteCarlo()\n",
    "mc.run(turina, number_of_simulations=500, tosses=1000)\n",
    "\n",
    "fig, ax = plt.subplots()\n",
    "ax.hist(mc.results, bins=50)\n",
    "ax.set_ylabel('Counts')\n",
    "ax.set_xlabel('Estimated Area')\n",
    "print(f\"Mean Area: {np.mean(mc.results):.4f} +/- {np.std(mc.results):.4f}\")\n",
    "print(f\"Difference is : {np.mean(mc.results)-area :.5f}\")"
   ]
  },
  {
   "cell_type": "markdown",
   "metadata": {},
   "source": [
    "From our monte carlo simulation we see that we get a very comparable area as that given by the trapezoidal approximation. Increasing the number of experiments or number of tosses will decrease the standard deviation of area. It is important to note, that the standard deviation from the simulation should not be used in place of the standard deviation you get from technical replicates. It is valuable for us as a metric to determine if we need to increase the number of simulations and how our model is performing. For example, we see that the expected area is within a standard deviation of the trapezoidal approximation and the deviation is fairly small. "
   ]
  },
  {
   "cell_type": "code",
   "execution_count": null,
   "metadata": {},
   "outputs": [],
   "source": []
  }
 ],
 "metadata": {
  "kernelspec": {
   "display_name": "Python 3",
   "language": "python",
   "name": "python3"
  },
  "language_info": {
   "codemirror_mode": {
    "name": "ipython",
    "version": 3
   },
   "file_extension": ".py",
   "mimetype": "text/x-python",
   "name": "python",
   "nbconvert_exporter": "python",
   "pygments_lexer": "ipython3",
   "version": "3.7.4"
  }
 },
 "nbformat": 4,
 "nbformat_minor": 2
}
