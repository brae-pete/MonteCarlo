{
 "cells": [
  {
   "cell_type": "markdown",
   "metadata": {},
   "source": []
  },
  {
   "cell_type": "code",
   "execution_count": 3,
   "metadata": {},
   "outputs": [],
   "source": [
    "import numpy as np\n",
    "import matplotlib.pyplot as plt\n",
    "import random "
   ]
  },
  {
   "cell_type": "markdown",
   "metadata": {},
   "source": [
    "# Buffons Needle Problem\n",
    "\n",
    "**Task:** Perform large number of trials and estimate the value of pi. Plot the error as a function of the number of trials\n",
    "\n",
    "Problem Description:\n",
    "\n",
    "Drop a needle with length L onto a flat surface with regularly spaced grid marks at a distance of D. Measure the distance from the center of the needle (x) to the nearest grid, and the angle of the needle (theta). Determine when the needle crosses a line by comparing x and L/2*sin(theta). Divide the number of crosses by the total tosses to get an estimate of pi. \n",
    "\n",
    "1. Valid center positions $0 \\leq x \\leq d/2$\n",
    "1. Valid angle positions: $0 \\leq \\theta \\leq \\pi/2$\n",
    "1. Hit equation: $ x \\leq \\frac{L}{2} \\sin \\theta $"
   ]
  },
  {
   "cell_type": "code",
   "execution_count": 64,
   "metadata": {},
   "outputs": [],
   "source": [
    "class BuffonNeedle:\n",
    "    \n",
    "    def __init__(self, length=1, distance=2):\n",
    "        self.hits = 0\n",
    "        self.tosses = 0\n",
    "        self.half_length=length/2\n",
    "        self.half_distance=distance/2\n",
    "        self.estimate = []\n",
    "        \n",
    "    def reset(self):\n",
    "        self.estimate = []\n",
    "        self.hits = 0\n",
    "        self.tosses = 0\n",
    "        \n",
    "    def step(self):\n",
    "        x = random.random()*self.half_distance\n",
    "        theta = random.random()*np.pi/2\n",
    "        if x <= self.half_length*np.sin(theta):\n",
    "            self.hits +=1\n",
    "        self.tosses +=1\n",
    "        if self.hits > 0:\n",
    "            self.estimate.append(self.tosses/self.hits)\n",
    "        else:\n",
    "            self.estimate.append(np.nan)\n",
    "        \n",
    "        \n",
    "    def simulate(self, tosses=100):\n",
    "        self.reset()\n",
    "        for drop in range(tosses):\n",
    "            self.step()\n",
    "        return self.estimate[-1]\n",
    "    "
   ]
  },
  {
   "cell_type": "code",
   "execution_count": 65,
   "metadata": {},
   "outputs": [
    {
     "name": "stdout",
     "output_type": "stream",
     "text": [
      "Estimate for pi is: 3.1421147060394587\n"
     ]
    }
   ],
   "source": [
    "bn = BuffonNeedle()\n",
    "bn.simulate(tosses=1000000)\n",
    "print(f\"Estimate for pi is: {bn.estimate[-1]}\")"
   ]
  },
  {
   "cell_type": "code",
   "execution_count": 66,
   "metadata": {},
   "outputs": [
    {
     "data": {
      "text/plain": [
       "[<matplotlib.lines.Line2D at 0x231023d0988>]"
      ]
     },
     "execution_count": 66,
     "metadata": {},
     "output_type": "execute_result"
    },
    {
     "data": {
      "image/png": "[encoded data removed]",
      "text/plain": [
       "<Figure size 432x288 with 1 Axes>"
      ]
     },
     "metadata": {
      "needs_background": "light"
     },
     "output_type": "display_data"
    }
   ],
   "source": [
    "fig, ax = plt.subplots()\n",
    "ax.set_yscale('log')\n",
    "ax.set_xscale('log')\n",
    "ax.set_ylabel('Absolute Error')\n",
    "ax.set_xlabel('Tosses')\n",
    "ax.plot(np.abs(np.subtract(np.pi,bn.estimate)))"
   ]
  },
  {
   "cell_type": "markdown",
   "metadata": {},
   "source": [
    "## Compare Strategy of many tosses, versus many experiments\n",
    "Perform 2,000,000 trials of Buffon’s needle problem for 1/π: (a) by\n",
    "partitioning the trials into 10,000 “super experiments” of 200 trials each;\n",
    "(b) by partitioning the trials into 1000 “super experiments” of 2000 trials\n",
    "each; (c) by partitioning the trials into 100 “super experiments” of 20,000\n",
    "trials each. Compare the results you obtain and comment."
   ]
  },
  {
   "cell_type": "code",
   "execution_count": 4,
   "metadata": {},
   "outputs": [],
   "source": [
    "class MonteCarlo:\n",
    "    \"\"\"\n",
    "    We will try to use this monte carlo class for many of our simulations. It will restore a list of outcomes as a \n",
    "    field titled \"results\". \n",
    "    \n",
    "    Later we will update this to include the multiprocessing module to run our simulations faster.\n",
    "    \"\"\"\n",
    "    \n",
    "    def __init__(self):\n",
    "        self.results = []\n",
    "    \n",
    "    def run(self,simulation_object, number_of_simulations, *args, **kwargs):\n",
    "        \"\"\"\n",
    "        Pass a simulation object (our Plink Class for example), the number of times to run the MC simulation, and any arguments \n",
    "        keyword arguments that are necessary for the simulate command of the simulation object\n",
    "        \n",
    "        \"\"\"\n",
    "        \n",
    "        self.results = [simulation_object.simulate(*args,**kwargs) for i in range(number_of_simulations)]\n",
    "        \n",
    "            "
   ]
  },
  {
   "cell_type": "code",
   "execution_count": 58,
   "metadata": {},
   "outputs": [
    {
     "name": "stdout",
     "output_type": "stream",
     "text": [
      "Mean is :3.1812097343821173, Std is :0.3441372722718598\n"
     ]
    },
    {
     "data": {
      "image/png": "[encoded data removed]",
      "text/plain": [
       "<Figure size 432x288 with 1 Axes>"
      ]
     },
     "metadata": {
      "needs_background": "light"
     },
     "output_type": "display_data"
    }
   ],
   "source": [
    "# 10,000 super experiments of 200 tosses\n",
    "mc = MonteCarlo()\n",
    "bn = BuffonNeedle()\n",
    "mc.run(bn, number_of_simulations=10000, tosses=200)\n",
    "plt.hist(mc.results, density=True)\n",
    "print(f\"Mean is :{np.mean(mc.results)}, Std is :{np.std(mc.results)}\")"
   ]
  },
  {
   "cell_type": "code",
   "execution_count": 59,
   "metadata": {},
   "outputs": [
    {
     "name": "stdout",
     "output_type": "stream",
     "text": [
      "Mean is :3.142835882762865, Std is :0.10658956641769654\n"
     ]
    },
    {
     "data": {
      "image/png": "[encoded data removed]",
      "text/plain": [
       "<Figure size 432x288 with 1 Axes>"
      ]
     },
     "metadata": {
      "needs_background": "light"
     },
     "output_type": "display_data"
    }
   ],
   "source": [
    "# 1,000 super experiments of 2000 tosses\n",
    "mc = MonteCarlo()\n",
    "bn = BuffonNeedle()\n",
    "mc.run(bn, number_of_simulations=1000, tosses=2000)\n",
    "plt.hist(mc.results, density=True)\n",
    "print(f\"Mean is :{np.mean(mc.results)}, Std is :{np.std(mc.results)}\")"
   ]
  },
  {
   "cell_type": "code",
   "execution_count": 60,
   "metadata": {},
   "outputs": [
    {
     "name": "stdout",
     "output_type": "stream",
     "text": [
      "Mean is :3.1486951771275002, Std is :0.10564174464566686\n"
     ]
    },
    {
     "data": {
      "image/png": "[encoded data removed]",
      "text/plain": [
       "<Figure size 432x288 with 1 Axes>"
      ]
     },
     "metadata": {
      "needs_background": "light"
     },
     "output_type": "display_data"
    }
   ],
   "source": [
    "# 100 super experiments of 20000 tosses\n",
    "mc = MonteCarlo()\n",
    "bn = BuffonNeedle()\n",
    "mc.run(bn, number_of_simulations=1000, tosses=2000)\n",
    "plt.hist(mc.results, density=True)\n",
    "print(f\"Mean is :{np.mean(mc.results)}, Std is :{np.std(mc.results)}\")"
   ]
  },
  {
   "cell_type": "markdown",
   "metadata": {},
   "source": [
    "It would appear you would need to balance the number of experiments and the number of tosses. The 1000, and 100 tosses gave similar distributions with a similar accuracy. This makes some sense as looking at the error plot for the number of tosses. If you ran thousands of experiments at only a hundred tosses, the deviation would be similar to the error. "
   ]
  },
  {
   "cell_type": "markdown",
   "metadata": {},
   "source": [
    "# Rolling the Dice"
   ]
  },
  {
   "cell_type": "markdown",
   "metadata": {},
   "source": [
    "Simulate 1000 rolls of a pair of dice and histogram the results as (a)\n",
    "the sum of the dice and (b) the individual pairs, e.g. (1, 1) and (1, 2) and\n",
    ". . . through (6, 6). (c) Do the part (a) for the roll of 6 dice; histogram 4000\n",
    "rolls."
   ]
  },
  {
   "cell_type": "code",
   "execution_count": 113,
   "metadata": {},
   "outputs": [],
   "source": [
    "class RollDice:\n",
    "    \n",
    "    def __init__(self, sides=6, number_of_dice=2):\n",
    "        self.history = []\n",
    "        self.total = []\n",
    "        assert sides >= 2, \"Sides must be greater than or equal to 2\"\n",
    "        self.sides = int(sides)\n",
    "        assert number_of_dice >=1, \"Number of dice must be greater than eqal to 1\"\n",
    "        self.number_of_dice = int(number_of_dice)\n",
    "        \n",
    "    def reset(self):\n",
    "        self.history = []\n",
    "        self.total = []\n",
    "        \n",
    "    def step(self):\n",
    "        rolls = [random.randint(1,self.sides) for _ in range(self.number_of_dice)]\n",
    "        self.total.append(np.sum(rolls))\n",
    "        self.history.append(rolls)\n",
    "        \n",
    "    def simulate(self, tosses=100):\n",
    "        self.reset()\n",
    "        for j in range(tosses):\n",
    "            self.step()\n",
    "    \n"
   ]
  },
  {
   "cell_type": "code",
   "execution_count": 114,
   "metadata": {},
   "outputs": [],
   "source": [
    "dice = RollDice()\n",
    "dice.simulate(tosses=10000)"
   ]
  },
  {
   "cell_type": "code",
   "execution_count": 115,
   "metadata": {},
   "outputs": [
    {
     "data": {
      "text/plain": [
       "(array([ 285.,  558.,  822., 1095., 1392., 1685., 1414., 1119.,  786.,\n",
       "         561.,  283.]),\n",
       " array([ 2.        ,  2.90909091,  3.81818182,  4.72727273,  5.63636364,\n",
       "         6.54545455,  7.45454545,  8.36363636,  9.27272727, 10.18181818,\n",
       "        11.09090909, 12.        ]),\n",
       " <a list of 11 Patch objects>)"
      ]
     },
     "execution_count": 115,
     "metadata": {},
     "output_type": "execute_result"
    },
    {
     "data": {
      "image/png": "[encoded data removed]",
      "text/plain": [
       "<Figure size 432x288 with 1 Axes>"
      ]
     },
     "metadata": {
      "needs_background": "light"
     },
     "output_type": "display_data"
    }
   ],
   "source": [
    "fig, ax = plt.subplots()\n",
    "ax.set_title(\"Sum of Dice\")\n",
    "ax.hist(dice.total, bins=11)"
   ]
  },
  {
   "cell_type": "code",
   "execution_count": 133,
   "metadata": {},
   "outputs": [
    {
     "data": {
      "image/png": "[encoded data removed]",
      "text/plain": [
       "<Figure size 432x288 with 1 Axes>"
      ]
     },
     "metadata": {
      "needs_background": "light"
     },
     "output_type": "display_data"
    }
   ],
   "source": [
    "# Plot the histogram of the paired dice rolls\n",
    "l=[ f\"{x}\" for x in dice.history]\n",
    "l.sort()\n",
    "fig, ax = plt.subplots()\n",
    "bins = np.arange(1, dice.sides**dice.number_of_dice+1) \n",
    "ax.hist(l, bins=bins, density=True)\n",
    "ax.tick_params(axis='x', rotation=90)\n",
    "pass"
   ]
  },
  {
   "cell_type": "code",
   "execution_count": 150,
   "metadata": {},
   "outputs": [
    {
     "data": {
      "image/png": "[encoded data removed]",
      "text/plain": [
       "<Figure size 432x288 with 1 Axes>"
      ]
     },
     "metadata": {
      "needs_background": "light"
     },
     "output_type": "display_data"
    }
   ],
   "source": [
    "# Perform the summed dice roll for 6 dice\n",
    "dice = RollDice(number_of_dice=6)\n",
    "dice.simulate(tosses=10000)\n",
    "\n",
    "fig, ax = plt.subplots()\n",
    "ax.set_title(\"Sum of Dice\")\n",
    "ax.hist(dice.total,bins=28, histtype='step', density=True)\n",
    "pass"
   ]
  },
  {
   "cell_type": "markdown",
   "metadata": {},
   "source": [
    "Suppose a “reward” r(x) is given upon the roll of a pair of dice as\n",
    "follows: r(x) = 1/x, x = 2, 3, . . . , 12. Estimate the expectation of r by\n",
    "simulation\n",
    "( 1\n",
    "36\n",
    "\u0012 1\n",
    "2 + 2\n",
    "3 + 3\n",
    "4 + 4\n",
    "5 + 5\n",
    "6 + 6\n",
    "7 + 5\n",
    "8 + 4\n",
    "9 + 3\n",
    "10 + 2\n",
    "11 + 1\n",
    "12\n",
    "\u0013\n",
    "= 0.1678)."
   ]
  },
  {
   "cell_type": "code",
   "execution_count": 1,
   "metadata": {},
   "outputs": [
    {
     "ename": "NameError",
     "evalue": "name 'RollDice' is not defined",
     "output_type": "error",
     "traceback": [
      "\u001b[1;31m---------------------------------------------------------------------------\u001b[0m",
      "\u001b[1;31mNameError\u001b[0m                                 Traceback (most recent call last)",
      "\u001b[1;32m<ipython-input-1-94bbb0b0e6ad>\u001b[0m in \u001b[0;36m<module>\u001b[1;34m\u001b[0m\n\u001b[1;32m----> 1\u001b[1;33m \u001b[0mdice\u001b[0m \u001b[1;33m=\u001b[0m \u001b[0mRollDice\u001b[0m\u001b[1;33m(\u001b[0m\u001b[1;33m)\u001b[0m\u001b[1;33m\u001b[0m\u001b[1;33m\u001b[0m\u001b[0m\n\u001b[0m\u001b[0;32m      2\u001b[0m \u001b[0mdice\u001b[0m\u001b[1;33m.\u001b[0m\u001b[0msimulate\u001b[0m\u001b[1;33m(\u001b[0m\u001b[0mtosses\u001b[0m\u001b[1;33m=\u001b[0m\u001b[1;36m10000\u001b[0m\u001b[1;33m)\u001b[0m\u001b[1;33m\u001b[0m\u001b[1;33m\u001b[0m\u001b[0m\n\u001b[0;32m      3\u001b[0m \u001b[0mnp\u001b[0m\u001b[1;33m.\u001b[0m\u001b[0mmean\u001b[0m\u001b[1;33m(\u001b[0m\u001b[0mnp\u001b[0m\u001b[1;33m.\u001b[0m\u001b[0mdivide\u001b[0m\u001b[1;33m(\u001b[0m\u001b[1;36m1\u001b[0m\u001b[1;33m,\u001b[0m\u001b[0mdice\u001b[0m\u001b[1;33m.\u001b[0m\u001b[0mtotal\u001b[0m\u001b[1;33m)\u001b[0m\u001b[1;33m)\u001b[0m\u001b[1;33m\u001b[0m\u001b[1;33m\u001b[0m\u001b[0m\n",
      "\u001b[1;31mNameError\u001b[0m: name 'RollDice' is not defined"
     ]
    }
   ],
   "source": [
    "dice = RollDice()\n",
    "dice.simulate(tosses=10000)\n",
    "np.mean(np.divide(1,dice.total))"
   ]
  },
  {
   "cell_type": "markdown",
   "metadata": {},
   "source": [
    "# Bayesian Probability\n",
    "\n",
    "1. P(A|B) = How often A happens given that B happens\n",
    "1. P(B|A) = How often B happens, given that A happens\n",
    "1. P(A) = How likely A is ont is own\n",
    "1. P(B) = How Likely B is on its own\n",
    "\n",
    "For a diagnostic: \n",
    "\n",
    "* 98% diagnostic accuracy **this is not P(A) but rather P(A|B)**\n",
    "* 3% of community have the disease (PB)\n",
    "* 97% of community don't have the disease(P(Bc))\n",
    "* What is P(A|B)? How often a person has the disease that is tested accurately (0.98)\n",
    "\n",
    "How likely is that a person with a positive test (A) also has has the disease (B)? \n",
    "\n",
    "\n",
    "$P(B|A) = \\frac{ P(B)P(A|B)}{Pr(A|B)Pr(B)+Pr(A|Bc)Pr(Bc)}$\n",
    "\n",
    "P(A|B) = 0.98\n",
    "P(B) = 0.03\n",
    "P(Bc) = 0.97\n",
    "p(A|Bc) = 0.02\n",
    "\n",
    "\n"
   ]
  },
  {
   "cell_type": "code",
   "execution_count": 47,
   "metadata": {},
   "outputs": [
    {
     "name": "stdout",
     "output_type": "stream",
     "text": [
      "Probability person has disease with positive test is: 0.6024590163934427\n"
     ]
    }
   ],
   "source": [
    "P_b_given_a = 0.98*0.03/(0.98*0.03+0.02*0.97)\n",
    "print(f\"Probability person has disease with positive test is: {P_b_given_a}\")"
   ]
  },
  {
   "cell_type": "code",
   "execution_count": 51,
   "metadata": {},
   "outputs": [],
   "source": [
    "class Diagnostic:\n",
    "    \"\"\"\n",
    "    Simulation for simple disease and diagnostic model. Model can be used to calculate the \n",
    "    conditional probability P(B|A), that is the probability a person as the disease when presented\n",
    "    with a positive test. \n",
    "    \"\"\"\n",
    "    \n",
    "    def __init__(self, communal_infection=0.03, diagnostic_accuracy=0.98):\n",
    "        self.communal_infection =communal_infection\n",
    "        self.diagnostic_accuracy = diagnostic_accuracy\n",
    "        self.total_positive = 0\n",
    "        self.case_positive = 0\n",
    "        \n",
    "    def reset(self):\n",
    "        self.total_positive = 0\n",
    "        self.case_positive = 0\n",
    "        \n",
    "    def step(self):\n",
    "        person = random.random()\n",
    "        test = random.random()\n",
    "        \n",
    "        if person < self.communal_infection:\n",
    "            if test < self.diagnostic_accuracy:\n",
    "                self.case_positive +=1\n",
    "                self.total_positive +=1\n",
    "        else:\n",
    "            if test > self.diagnostic_accuracy:\n",
    "                self.total_positive +=1\n",
    " \n",
    "    \n",
    "    def simulate(self, tests=100):\n",
    "        self.reset()\n",
    "        for i in range(tests):\n",
    "            self.step()\n",
    "        return self.case_positive/self.total_positive\n",
    "    \n",
    "    "
   ]
  },
  {
   "cell_type": "code",
   "execution_count": 52,
   "metadata": {},
   "outputs": [
    {
     "data": {
      "text/plain": [
       "0.3333333333333333"
      ]
     },
     "execution_count": 52,
     "metadata": {},
     "output_type": "execute_result"
    }
   ],
   "source": [
    "dg = Diagnostic()\n",
    "dg.simulate()"
   ]
  },
  {
   "cell_type": "code",
   "execution_count": 53,
   "metadata": {},
   "outputs": [
    {
     "name": "stdout",
     "output_type": "stream",
     "text": [
      "Probability of Positive Test and Positive Case is: 0.601 +/- 0.073\n"
     ]
    },
    {
     "data": {
      "image/png": "[encoded data removed]",
      "text/plain": [
       "<Figure size 432x288 with 1 Axes>"
      ]
     },
     "metadata": {
      "needs_background": "light"
     },
     "output_type": "display_data"
    }
   ],
   "source": [
    "mc = MonteCarlo()\n",
    "dg = Diagnostic()\n",
    "mc.run(dg, 1000, 1000)\n",
    "\n",
    "\n",
    "plt.hist(mc.results)\n",
    "print(f\"Probability of Positive Test and Positive Case is: {np.mean(mc.results):.3f} +/- {np.std(mc.results):.3f}\")"
   ]
  },
  {
   "cell_type": "code",
   "execution_count": null,
   "metadata": {},
   "outputs": [],
   "source": []
  }
 ],
 "metadata": {
  "kernelspec": {
   "display_name": "Python 3",
   "language": "python",
   "name": "python3"
  },
  "language_info": {
   "codemirror_mode": {
    "name": "ipython",
    "version": 3
   },
   "file_extension": ".py",
   "mimetype": "text/x-python",
   "name": "python",
   "nbconvert_exporter": "python",
   "pygments_lexer": "ipython3",
   "version": "3.7.4"
  }
 },
 "nbformat": 4,
 "nbformat_minor": 2
}
