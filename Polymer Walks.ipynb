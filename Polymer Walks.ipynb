{
 "cells": [
  {
   "cell_type": "markdown",
   "metadata": {},
   "source": [
    "# Polymer Walks\n",
    "\n",
    "**Resources**\n",
    "\n",
    "Gustav-Stresemann-Institut e.V. für Übernationale Bildung und Europäische Zusammenarbeit et al., eds. 2004. Computational Soft Matter: From Synthetic Polymers to Proteins; Winter School, 29 February - 6 March 2004, Gustav-Stresemann-Institut, Bonn, Germany. 2: Lecture Notes. Jülich: NIC. https://web.pa.msu.edu/people/duxbury/courses/phy480/BaschnagelReview2004.pdf\n"
   ]
  },
  {
   "cell_type": "code",
   "execution_count": 1,
   "metadata": {},
   "outputs": [],
   "source": [
    "import matplotlib.pyplot as plt\n",
    "import numpy as np\n",
    "import random as random\n"
   ]
  },
  {
   "cell_type": "code",
   "execution_count": 31,
   "metadata": {},
   "outputs": [],
   "source": [
    "class ObstacleLattice:\n",
    "    \"\"\"\n",
    "    A lattice that contains the coordinates for the obstacles and chains\n",
    "    \"\"\"\n",
    "    def __init__(self,N_chain = 20, N_obstacles=1000):\n",
    "        \n",
    "        \n",
    "        # Create a random array of obstacles\n",
    "        self.obstacles = np.random.randint(-100,100,(2,N_obstacles))\n",
    "        \n",
    "        # Create an array for the chain\n",
    "        self.chain = np.empty((2,N_chain))\n",
    "        self.chain[:] = np.nan\n",
    "        \n",
    "class SquareMove:\n",
    "    \"\"\"Contains moves and probability for each move\"\"\"\n",
    "    def __init__(self):\n",
    "        \n",
    "        self.moves = moves = [[1,0],[0,1], [-1,0], [0,-1]]\n",
    "        self.probs = probs = [i*1/len(moves)+1/len(moves) for i in range(len(moves))]\n",
    "    \n",
    "\n",
    "    def get_move(self):\n",
    "        \"\"\"\n",
    "        returns a move based off of probability\n",
    "        \"\"\"\n",
    "        pmove = random.random()\n",
    "        for idx, prob in enumerate(self.probs):\n",
    "            if pmove < prob:\n",
    "                break\n",
    "        return self.moves[idx]\n",
    "    \n",
    "\n",
    "def move_chain_random(ltc,moves):\n",
    "    \"\"\"\n",
    "    move the chain in a random direction\n",
    "    \"\"\"\n",
    "    chain = ltc.chain\n",
    "    obstacle = ltc.obstacles\n",
    "    if np.isnan(chain).any():\n",
    "        pass\n",
    "    \n",
    "def initialize_chain(ltc, moves):\n",
    "    \"\"\"\n",
    "    Create an initial chain\n",
    "    \"\"\"\n",
    "    def create():\n",
    "        # First point is origin\n",
    "        chain = ltc.chain.copy()\n",
    "        chain[:,0]=[0,0]\n",
    "        # First move is always good\n",
    "        chain[:,1] = chain[:,0] + moves.get_move()\n",
    "\n",
    "        for idx in range(2,chain.shape[1]):\n",
    "            new_point = chain[:,idx-1]\n",
    "            while np.all(new_point == chain[:, idx-1]):\n",
    "                new_point = chain[:,idx-1] +  moves.get_move()\n",
    "            chain[:,idx]=new_point\n",
    "        return chain\n",
    "            \n",
    "            \n",
    "    assert ltc.chain.shape[1]>1, 'chain must be greater than one point'\n",
    "    searching =True\n",
    "    count = 0 \n",
    "    while searching:\n",
    "        count += 1\n",
    "        searching = False\n",
    "        chain = create()\n",
    "        for idx in range(chain.shape[1]-1):\n",
    "            if searching:\n",
    "                break\n",
    "            for jdx in range(idx+1,chain.shape[1]):\n",
    "                if np.all(chain[:,idx]==chain[:,jdx]):\n",
    "                    searching = True\n",
    "                    break\n",
    "    ltc.chain = chain\n",
    "    return count \n",
    "        \n",
    "        \n",
    "def plot_lattice(ltc, lims=(-10,10), draw_lattice=False):\n",
    "    \"\"\"\n",
    "    draw the lattice with the obstacles and chain\n",
    "    \n",
    "    :param ltc: lattice object that will be drawn\n",
    "    :param lims: the min and max values to draw for the grid\n",
    "    \"\"\"\n",
    "    fig, ax =  plt.subplots()\n",
    "    \n",
    "    # Draw lattice dots:\n",
    "    if draw_lattice:\n",
    "        x = np.arange(-100,101)\n",
    "        y = np.arange(-100,101)\n",
    "        xx,yy = np.meshgrid(x,y)\n",
    "        ax.scatter(xx,yy, marker = '.', alpha=0.5)\n",
    "    \n",
    "    # Draw Obstacles\n",
    "    ax.scatter(ltc.obstacles[0,:], ltc.obstacles[1,:], marker = 's', alpha=0.5, color='r')\n",
    "    \n",
    "    # Draw Chain\n",
    "    ax.plot(ltc.chain[0,:], ltc.chain[1,:])\n",
    "    \n",
    "    #Set the limits\n",
    "    ax.set_ylim(lims)\n",
    "    ax.set_xlim(lims)\n",
    "    return ax\n",
    "\n",
    "    \n",
    "    \n",
    "    "
   ]
  },
  {
   "cell_type": "code",
   "execution_count": 32,
   "metadata": {},
   "outputs": [
    {
     "data": {
      "text/plain": [
       "7860"
      ]
     },
     "execution_count": 32,
     "metadata": {},
     "output_type": "execute_result"
    }
   ],
   "source": [
    "\n",
    "ltc = ObstacleLattice(N_chain=30)\n",
    "mv = SquareMove()\n",
    "initialize_chain(ltc,mv)"
   ]
  },
  {
   "cell_type": "code",
   "execution_count": 33,
   "metadata": {},
   "outputs": [
    {
     "data": {
      "text/plain": [
       "<AxesSubplot:>"
      ]
     },
     "execution_count": 33,
     "metadata": {},
     "output_type": "execute_result"
    },
    {
     "data": {
      "image/png": "[encoded data removed]",
      "text/plain": [
       "<Figure size 432x288 with 1 Axes>"
      ]
     },
     "metadata": {
      "needs_background": "light"
     },
     "output_type": "display_data"
    }
   ],
   "source": [
    "plot_lattice(ltc, lims=(-20,20))"
   ]
  },
  {
   "cell_type": "code",
   "execution_count": 32,
   "metadata": {},
   "outputs": [
    {
     "data": {
      "text/plain": [
       "True"
      ]
     },
     "execution_count": 32,
     "metadata": {},
     "output_type": "execute_result"
    }
   ],
   "source": [
    "np.isnan(ltc.chain).any()"
   ]
  },
  {
   "cell_type": "code",
   "execution_count": 36,
   "metadata": {},
   "outputs": [],
   "source": [
    "x = np.random.randint(0,5,(2,4))"
   ]
  },
  {
   "cell_type": "code",
   "execution_count": 37,
   "metadata": {},
   "outputs": [
    {
     "data": {
      "text/plain": [
       "array([2, 1])"
      ]
     },
     "execution_count": 37,
     "metadata": {},
     "output_type": "execute_result"
    }
   ],
   "source": [
    "x[:,0] + [0,1]"
   ]
  },
  {
   "cell_type": "code",
   "execution_count": 55,
   "metadata": {},
   "outputs": [
    {
     "data": {
      "text/plain": [
       "array([[ 0.,  0., nan, nan, nan, nan, nan, nan, nan, nan, nan, nan, nan,\n",
       "        nan, nan, nan, nan, nan, nan, nan],\n",
       "       [ 0., -1., nan, nan, nan, nan, nan, nan, nan, nan, nan, nan, nan,\n",
       "        nan, nan, nan, nan, nan, nan, nan]])"
      ]
     },
     "execution_count": 55,
     "metadata": {},
     "output_type": "execute_result"
    }
   ],
   "source": [
    "ltc.chain"
   ]
  },
  {
   "cell_type": "code",
   "execution_count": 82,
   "metadata": {},
   "outputs": [
    {
     "data": {
      "text/plain": [
       "array([[2, 2, 1, 4],\n",
       "       [0, 4, 2, 4]])"
      ]
     },
     "execution_count": 82,
     "metadata": {},
     "output_type": "execute_result"
    }
   ],
   "source": [
    "x"
   ]
  },
  {
   "cell_type": "code",
   "execution_count": 83,
   "metadata": {},
   "outputs": [
    {
     "name": "stderr",
     "output_type": "stream",
     "text": [
      "C:\\Software\\MiniConda\\envs\\dsp\\lib\\site-packages\\ipykernel_launcher.py:1: DeprecationWarning: elementwise comparison failed; this will raise an error in the future.\n",
      "  \"\"\"Entry point for launching an IPython kernel.\n"
     ]
    },
    {
     "data": {
      "text/plain": [
       "False"
      ]
     },
     "execution_count": 83,
     "metadata": {},
     "output_type": "execute_result"
    }
   ],
   "source": [
    "[2,0] in x"
   ]
  },
  {
   "cell_type": "code",
   "execution_count": null,
   "metadata": {},
   "outputs": [],
   "source": []
  }
 ],
 "metadata": {
  "kernelspec": {
   "display_name": "Python 3",
   "language": "python",
   "name": "python3"
  }
 },
 "nbformat": 4,
 "nbformat_minor": 4
}
