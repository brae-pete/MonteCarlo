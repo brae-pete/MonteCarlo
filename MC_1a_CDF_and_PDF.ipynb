{
 "cells": [
  {
   "cell_type": "markdown",
   "metadata": {},
   "source": [
    "Monte Carlo Simulations are used to predict the outcomes from random processes or events. For example we can look at the distance a coin will fall in a plinko board. A plinko board has rows of pegs sticking out from the board face. A coin is dropped from the top of the board and as it slides down, it is deflected left or right by the pegs.\n"
   ]
  },
  {
   "cell_type": "code",
   "execution_count": 101,
   "metadata": {},
   "outputs": [],
   "source": [
    "import random\n",
    "import matplotlib.pyplot as plt\n",
    "import numpy as np\n",
    "\n",
    "class Plinko:\n",
    "    \n",
    "    def __init__(self):\n",
    "        self.position = 0 # Start at the center of the board\n",
    "        self.history = [self.position] # Keep track of our history\n",
    "        \n",
    "    def step(self):\n",
    "        \"\"\"\n",
    "        On each step we use a number taken from a uniform discrete distribution between 0 and 1 as our random variable, pr. For\n",
    "        this plinko board, there are only two options, move left (negative) or move right (positive). \n",
    "        \"\"\"\n",
    "        pr = random.randint(0,1)\n",
    "        if pr ==0: # Does it matter if you do < or <=? With very high precision the effect will be small (essentially 0!)\n",
    "            self.position += .5\n",
    "        else:\n",
    "            self.position +=-.5\n",
    "        self.history.append(self.position)\n",
    "\n",
    "    def simulate(self, steps):\n",
    "        \"\"\"\n",
    "        In this simulation we are interested stepping, or random walk simulation. For our plinko board, steps\n",
    "        will be the number of pegs on our plinko board.\n",
    "        \"\"\"\n",
    "        self.reset()\n",
    "        for i in range(steps):\n",
    "            self.step()\n",
    "        return self.position\n",
    "        \n",
    "    def reset(self):\n",
    "        \"\"\"\n",
    "        In MonteCarlo we will run the simulation thousands of times, so we define the starting conditions for the simulation\n",
    "        here. \n",
    "        \"\"\"\n",
    "        self.position = 0\n",
    "        self.history = [self.position]\n",
    "\n",
    "    "
   ]
  },
  {
   "cell_type": "markdown",
   "metadata": {},
   "source": [
    "Above we created a class to simulate our Plinko board. We can create a Plinko simulation object, and run the method simulate to determine how far a coin would have gone in that simulation"
   ]
  },
  {
   "cell_type": "code",
   "execution_count": 102,
   "metadata": {},
   "outputs": [
    {
     "data": {
      "text/plain": [
       "2.0"
      ]
     },
     "execution_count": 102,
     "metadata": {},
     "output_type": "execute_result"
    }
   ],
   "source": [
    "game = Plinko()\n",
    "game.simulate(100)\n"
   ]
  },
  {
   "cell_type": "markdown",
   "metadata": {},
   "source": [
    "One useful way to explore the simulation data is to map out the path travelled of our coin during the simulation. "
   ]
  },
  {
   "cell_type": "code",
   "execution_count": 103,
   "metadata": {},
   "outputs": [
    {
     "data": {
      "text/plain": [
       "Text(0.5, 0, 'Step #')"
      ]
     },
     "execution_count": 103,
     "metadata": {},
     "output_type": "execute_result"
    },
    {
     "data": {
      "image/png": "[encoded data removed]",
      "text/plain": [
       "<Figure size 432x288 with 1 Axes>"
      ]
     },
     "metadata": {
      "needs_background": "light"
     },
     "output_type": "display_data"
    }
   ],
   "source": [
    "fig, ax = plt.subplots()\n",
    "ax.plot(game.history)\n",
    "ax.set_ylabel('Current Position')\n",
    "ax.set_xlabel('Step #')"
   ]
  },
  {
   "cell_type": "markdown",
   "metadata": {},
   "source": [
    "A monte carlo simulation will rely on thousands and hundres of thousands of simulations to increase the accuracy (or decrease the variance) of our results. We will create a a MonteCarlo object that we can call for the Plinko simulation."
   ]
  },
  {
   "cell_type": "code",
   "execution_count": 104,
   "metadata": {},
   "outputs": [],
   "source": [
    "class MonteCarlo:\n",
    "    \"\"\"\n",
    "    We will try to use this monte carlo class for many of our simulations. It will restore a list of outcomes as a \n",
    "    field titled \"results\". \n",
    "    \n",
    "    Later we will update this to include the multiprocessing module to run our simulations faster.\n",
    "    \"\"\"\n",
    "    \n",
    "    def __init__(self):\n",
    "        self.results = []\n",
    "    \n",
    "    def run(self,simulation_object, number_of_simulations, *args, **kwargs):\n",
    "        \"\"\"\n",
    "        Pass a simulation object (our Plink Class for example), the number of times to run the MC simulation, and any arguments \n",
    "        keyword arguments that are necessary for the simulate command of the simulation object\n",
    "        \n",
    "        \"\"\"\n",
    "        \n",
    "        self.results = [simulation_object.simulate(*args,**kwargs) for i in range(number_of_simulations)]\n",
    "        \n",
    "            "
   ]
  },
  {
   "cell_type": "code",
   "execution_count": 105,
   "metadata": {},
   "outputs": [
    {
     "name": "stdout",
     "output_type": "stream",
     "text": [
      "Mean ending location for 10 simulations and 100 steps is: -0.2 +/- 1.7776\n",
      "Mean ending location for 100 simulations and 100 steps is: 0.08 +/- 1.6534\n",
      "Mean ending location for 1000 simulations and 100 steps is: -0.01 +/- 1.6018\n",
      "Mean ending location for 10000 simulations and 100 steps is: 0.0008 +/- 1.5603\n",
      "Mean ending location for 100000 simulations and 100 steps is: -0.00585 +/- 1.5795\n"
     ]
    }
   ],
   "source": [
    "mc = MonteCarlo()\n",
    "num_steps = 10\n",
    "num_sims = [10,100,1000,10000,100000]\n",
    "for N in num_sims:\n",
    "    mc.run(game,N, num_steps)\n",
    "    print(f\"Mean ending location for {N} simulations and 100 steps is: {np.mean(mc.results):} +/- {np.std(mc.results):.4f}\")"
   ]
  },
  {
   "cell_type": "markdown",
   "metadata": {},
   "source": [
    "As we increase the number of simulations we get closer to the true mean (Zero for this \"fair-game\"). The standard deviation (or square root of the variance) also becomes better defined. For the plinko game, our result is a gaussian distribution centered about zero. We can plot a histogram of the results to confirm this: "
   ]
  },
  {
   "cell_type": "code",
   "execution_count": 106,
   "metadata": {},
   "outputs": [
    {
     "data": {
      "text/plain": [
       "Text(0.5, 0, 'Distance Travelled (arbitrary units)')"
      ]
     },
     "execution_count": 106,
     "metadata": {},
     "output_type": "execute_result"
    },
    {
     "data": {
      "image/png": "[encoded data removed]",
      "text/plain": [
       "<Figure size 432x288 with 1 Axes>"
      ]
     },
     "metadata": {
      "needs_background": "light"
     },
     "output_type": "display_data"
    }
   ],
   "source": [
    "fig, ax = plt.subplots()\n",
    "ax.hist(mc.results)\n",
    "ax.set_ylabel('Count')\n",
    "ax.set_xlabel('Distance Travelled (arbitrary units)')"
   ]
  },
  {
   "cell_type": "markdown",
   "metadata": {},
   "source": [
    "We can plot the cumulitive distribution function using the histogram above:\n"
   ]
  },
  {
   "cell_type": "code",
   "execution_count": 107,
   "metadata": {},
   "outputs": [
    {
     "data": {
      "text/plain": [
       "Text(0.5, 0, 'Distance  (arbitrary units)')"
      ]
     },
     "execution_count": 107,
     "metadata": {},
     "output_type": "execute_result"
    },
    {
     "data": {
      "image/png": "[encoded data removed]",
      "text/plain": [
       "<Figure size 432x288 with 1 Axes>"
      ]
     },
     "metadata": {
      "needs_background": "light"
     },
     "output_type": "display_data"
    }
   ],
   "source": [
    "fig, ax = plt.subplots()\n",
    "ax.hist(mc.results, cumulative=True, density=True, histtype='step')\n",
    "ax.set_ylabel('CDF')\n",
    "ax.set_xlabel('Distance  (arbitrary units)')"
   ]
  },
  {
   "cell_type": "markdown",
   "metadata": {},
   "source": [
    "We can also look at the probability density function. This wouldd be the same as the derivative of the cdf for a continuous distribution function. "
   ]
  },
  {
   "cell_type": "code",
   "execution_count": 108,
   "metadata": {},
   "outputs": [
    {
     "data": {
      "text/plain": [
       "Text(0.5, 0, 'Distance (arbitrary units)')"
      ]
     },
     "execution_count": 108,
     "metadata": {},
     "output_type": "execute_result"
    },
    {
     "data": {
      "image/png": "[encoded data removed]",
      "text/plain": [
       "<Figure size 432x288 with 1 Axes>"
      ]
     },
     "metadata": {
      "needs_background": "light"
     },
     "output_type": "display_data"
    }
   ],
   "source": [
    "fig, ax = plt.subplots()\n",
    "ax.hist(mc.results,bins=5, density=True, histtype='bar')\n",
    "ax.set_ylabel('Probability')\n",
    "ax.set_xlabel('Distance (arbitrary units)')"
   ]
  },
  {
   "cell_type": "code",
   "execution_count": 109,
   "metadata": {},
   "outputs": [
    {
     "data": {
      "text/plain": [
       "Text(0.5, 0, 'Distance (arbitrary units)')"
      ]
     },
     "execution_count": 109,
     "metadata": {},
     "output_type": "execute_result"
    },
    {
     "data": {
      "image/png": "[encoded data removed]",
      "text/plain": [
       "<Figure size 432x288 with 1 Axes>"
      ]
     },
     "metadata": {
      "needs_background": "light"
     },
     "output_type": "display_data"
    }
   ],
   "source": [
    "fig, ax = plt.subplots()\n",
    "ax.hist(mc.results, bins=11,density=True, histtype='bar')\n",
    "ax.set_ylabel('Probability')\n",
    "ax.set_xlabel('Distance (arbitrary units)')"
   ]
  }
 ],
 "metadata": {
  "kernelspec": {
   "display_name": "Python 3",
   "language": "python",
   "name": "python3"
  },
  "language_info": {
   "codemirror_mode": {
    "name": "ipython",
    "version": 3
   },
   "file_extension": ".py",
   "mimetype": "text/x-python",
   "name": "python",
   "nbconvert_exporter": "python",
   "pygments_lexer": "ipython3",
   "version": "3.7.4"
  }
 },
 "nbformat": 4,
 "nbformat_minor": 2
}
